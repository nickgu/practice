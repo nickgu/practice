{
 "cells": [
  {
   "cell_type": "code",
   "execution_count": null,
   "metadata": {},
   "outputs": [],
   "source": [
    "import pydev\n",
    "\n",
    "path='ml-20m_all/'\n",
    "\n",
    "DataCountLimit = -1\n",
    "\n",
    "# read ratings.\n",
    "score_d = {}\n",
    "user_count = {}\n",
    "item_count = {}\n",
    "count=0\n",
    "for uid, iid, score, tm in pydev.foreach_row(file(path+'ratings.csv'), seperator=','):\n",
    "    if uid =='userId':\n",
    "        continue\n",
    "    score_d[score] = score_d.get(score, 0) + 1\n",
    "    user_count[uid] = user_count.get(uid, 0) + 1\n",
    "    item_count[iid] = item_count.get(iid, 0) + 1\n",
    "    \n",
    "    if count >= DataCountLimit and DataCountLimit>0:\n",
    "        break\n",
    "    count += 1\n",
    "\n",
    "    \n",
    "pydev.info('load over.')"
   ]
  },
  {
   "cell_type": "code",
   "execution_count": 2,
   "metadata": {},
   "outputs": [
    {
     "data": {
      "text/plain": [
       "<Figure size 600x600 with 1 Axes>"
      ]
     },
     "metadata": {},
     "output_type": "display_data"
    },
    {
     "name": "stdout",
     "output_type": "stream",
     "text": [
      "[(20, 25, 1, 0.09090909090909091), (25, 30, 1, 0.09090909090909091), (35, 40, 2, 0.18181818181818182), (40, 45, 1, 0.09090909090909091), (60, 65, 1, 0.09090909090909091), (65, 70, 1, 0.09090909090909091), (70, 75, 1, 0.09090909090909091), (175, 180, 1, 0.09090909090909091), (185, 190, 1, 0.09090909090909091), (275, 280, 1, 0.09090909090909091)]\n"
     ]
    },
    {
     "data": {
      "text/plain": [
       "<Figure size 1400x1400 with 1 Axes>"
      ]
     },
     "metadata": {},
     "output_type": "display_data"
    }
   ],
   "source": [
    "# data show.\n",
    "\n",
    "import matplotlib.pyplot as plt\n",
    "import easy_plot\n",
    "import pyda\n",
    "\n",
    "plt.figure(figsize=(6,6))\n",
    "data = sorted(score_d.iteritems(), key=lambda x:float(x[0]))\n",
    "easy_plot.bar(plt, data, label='Score Distribution')\n",
    "plt.show()\n",
    "\n",
    "plt.figure(figsize=(14,14))\n",
    "easy_plot.distribution_bar(plt, user_count.values(), 0, 5, 300, x_gap=5)\n",
    "plt.show()"
   ]
  }
 ],
 "metadata": {
  "kernelspec": {
   "display_name": "Python 2",
   "language": "python",
   "name": "python2"
  },
  "language_info": {
   "codemirror_mode": {
    "name": "ipython",
    "version": 2
   },
   "file_extension": ".py",
   "mimetype": "text/x-python",
   "name": "python",
   "nbconvert_exporter": "python",
   "pygments_lexer": "ipython2",
   "version": "2.7.15"
  }
 },
 "nbformat": 4,
 "nbformat_minor": 2
}
