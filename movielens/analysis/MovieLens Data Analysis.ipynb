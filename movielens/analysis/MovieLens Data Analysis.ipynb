{
 "cells": [
  {
   "cell_type": "code",
   "execution_count": 2,
   "metadata": {},
   "outputs": [
    {
     "data": {
      "image/png": "[encoded data removed]",
      "text/plain": [
       "<Figure size 432x432 with 1 Axes>"
      ]
     },
     "metadata": {},
     "output_type": "display_data"
    }
   ],
   "source": [
    "import pydev\n",
    "import easy_plot\n",
    "\n",
    "path='ml-20m_all/'\n",
    "\n",
    "DataCountLimit = 100000\n",
    "\n",
    "# read ratings.\n",
    "score_d = {}\n",
    "count=0\n",
    "for uid, iid, score, tm in pydev.foreach_row(file(path+'ratings.csv'), seperator=','):\n",
    "    if uid =='userId':\n",
    "        continue\n",
    "    score_d[score] = score_d.get(score, 0) + 1\n",
    "    if count >= DataCountLimit:\n",
    "        break\n",
    "    count += 1\n",
    "\n",
    "import matplotlib.pyplot as plt\n",
    "\n",
    "plt.figure(figsize=(6,6))\n",
    "data = sorted(score_d.iteritems(), key=lambda x:float(x[0]))\n",
    "easy_plot.bar(plt, data, label='Score Distribution')\n",
    "    "
   ]
  },
  {
   "cell_type": "code",
   "execution_count": null,
   "metadata": {},
   "outputs": [],
   "source": []
  },
  {
   "cell_type": "code",
   "execution_count": null,
   "metadata": {},
   "outputs": [],
   "source": []
  }
 ],
 "metadata": {
  "kernelspec": {
   "display_name": "Python 2",
   "language": "python",
   "name": "python2"
  },
  "language_info": {
   "codemirror_mode": {
    "name": "ipython",
    "version": 2
   },
   "file_extension": ".py",
   "mimetype": "text/x-python",
   "name": "python",
   "nbconvert_exporter": "python",
   "pygments_lexer": "ipython2",
   "version": "2.7.15"
  }
 },
 "nbformat": 4,
 "nbformat_minor": 2
}
